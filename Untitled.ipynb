{
 "cells": [
  {
   "cell_type": "code",
   "execution_count": 187,
   "id": "123fb2e5-198c-4be8-ac02-df0cf3c43d8d",
   "metadata": {},
   "outputs": [],
   "source": [
    "import numpy as np\n"
   ]
  },
  {
   "cell_type": "code",
   "execution_count": 55,
   "id": "90aa733d-7a90-4446-a445-371bd04f09fc",
   "metadata": {},
   "outputs": [],
   "source": [
    "def test1(a1):\n",
    "\n",
    "    a1 = a1*2;\n",
    "    \n",
    "    return a1\n"
   ]
  },
  {
   "cell_type": "code",
   "execution_count": 56,
   "id": "8faea9c9-038e-4038-b614-31f4d96de963",
   "metadata": {},
   "outputs": [
    {
     "name": "stdout",
     "output_type": "stream",
     "text": [
      "2\n"
     ]
    }
   ],
   "source": [
    "print(test1(1))"
   ]
  },
  {
   "cell_type": "code",
   "execution_count": 57,
   "id": "1930ce12-c9f3-4415-b401-99dcb1701970",
   "metadata": {},
   "outputs": [],
   "source": [
    "for i in range(1,10):\n",
    "    1+1\n"
   ]
  },
  {
   "cell_type": "code",
   "execution_count": 58,
   "id": "54c6575f-ee64-46e9-8b45-1a35cb4e24a8",
   "metadata": {},
   "outputs": [
    {
     "name": "stdout",
     "output_type": "stream",
     "text": [
      "112.17634307053027\n",
      "conditional number : 1.1081977510179984e+20\n"
     ]
    }
   ],
   "source": [
    "from scipy import linalg \n",
    "H = linalg.hilbert(100)\n",
    "Q = (H) \n",
    "\"Gram_Schmidt_process\"\n",
    "G = Q.T.dot(Q)-np.eye(100)\n",
    "print(np.trace(G.T.dot(G)))\n",
    "print('conditional number :',np.linalg.cond(H))"
   ]
  },
  {
   "cell_type": "code",
   "execution_count": 59,
   "id": "3768b9ad-4c29-43ea-9ba6-c71e30bb8548",
   "metadata": {},
   "outputs": [
    {
     "name": "stdout",
     "output_type": "stream",
     "text": [
      "person  wow recognized as person afas\n"
     ]
    }
   ],
   "source": [
    "if(2 != 1):\n",
    "        print('person ', \"wow\" , 'recognized as person', 'afas')"
   ]
  },
  {
   "cell_type": "code",
   "execution_count": 60,
   "id": "e257458d-5832-4c2c-8e29-fdb779a5a13d",
   "metadata": {},
   "outputs": [
    {
     "name": "stdout",
     "output_type": "stream",
     "text": [
      "person  wow recognized as person afas\n"
     ]
    }
   ],
   "source": [
    "if(2 > 1):\n",
    "        print('person ', \"wow\" , 'recognized as person', 'afas')"
   ]
  },
  {
   "cell_type": "code",
   "execution_count": 61,
   "id": "753aea65-5e6a-4d77-ad7b-6d021f5cf331",
   "metadata": {},
   "outputs": [],
   "source": [
    "if(2 < 1):\n",
    "        print('person ', \"wow\" , 'recognized as person', 'afas')"
   ]
  },
  {
   "cell_type": "code",
   "execution_count": 62,
   "id": "7be06d1d-1ca8-4dfb-b3b8-cc57bf98517f",
   "metadata": {},
   "outputs": [
    {
     "name": "stdout",
     "output_type": "stream",
     "text": [
      "[[1 2]\n",
      " [1 2]]\n",
      "[[0.75838012 0.8953385  0.53539936]\n",
      " [0.05062753 0.59325099 0.56990729]\n",
      " [0.56369385 0.47796186 0.12577212]]\n"
     ]
    }
   ],
   "source": [
    "print(np.array([[1,2],[1,2]]))\n",
    "print(np.random.rand(3,3))"
   ]
  },
  {
   "cell_type": "code",
   "execution_count": 63,
   "id": "c86d82b9-eb6a-4b92-9304-9a75869ac93a",
   "metadata": {},
   "outputs": [
    {
     "name": "stdout",
     "output_type": "stream",
     "text": [
      "2\n",
      "3\n",
      "4\n",
      "5\n",
      "6\n",
      "7\n",
      "8\n",
      "9\n",
      "10\n"
     ]
    }
   ],
   "source": [
    "a=1\n",
    "while a<10:\n",
    "    a=a+1\n",
    "    print(a)\n"
   ]
  },
  {
   "cell_type": "code",
   "execution_count": 64,
   "id": "73e7a6b0-4c72-4361-ac3f-57c5880fa36b",
   "metadata": {},
   "outputs": [
    {
     "name": "stdout",
     "output_type": "stream",
     "text": [
      "0.9503864793783098\n",
      "0.7950655035195465\n"
     ]
    }
   ],
   "source": [
    "print(max(np.random.rand(4)))\n",
    "print(np.random.rand(4).max())"
   ]
  },
  {
   "cell_type": "code",
   "execution_count": 65,
   "id": "9c999b44-177a-48d8-983d-230a07a87e0c",
   "metadata": {},
   "outputs": [],
   "source": [
    "X = np.random.rand(3,3)"
   ]
  },
  {
   "cell_type": "code",
   "execution_count": 66,
   "id": "8913e1ea-064b-4705-9d2b-02d92269d5fa",
   "metadata": {},
   "outputs": [
    {
     "name": "stdout",
     "output_type": "stream",
     "text": [
      "[[0.64299378 0.84450669 0.2756111 ]\n",
      " [0.69070157 0.34054251 0.52668489]\n",
      " [0.88574122 0.73276098 0.66931131]]\n"
     ]
    }
   ],
   "source": [
    "print(X)"
   ]
  },
  {
   "cell_type": "code",
   "execution_count": 67,
   "id": "068b1963-c4aa-4c3e-8f74-14c4a32a61ea",
   "metadata": {},
   "outputs": [
    {
     "data": {
      "text/plain": [
       "array([0.64299378, 0.69070157, 0.88574122])"
      ]
     },
     "execution_count": 67,
     "metadata": {},
     "output_type": "execute_result"
    }
   ],
   "source": [
    "X[:,0]"
   ]
  },
  {
   "cell_type": "code",
   "execution_count": 68,
   "id": "ff0820d0-a755-4cfb-b8d6-7eaa8961fc74",
   "metadata": {},
   "outputs": [
    {
     "name": "stdout",
     "output_type": "stream",
     "text": [
      "['type']\n"
     ]
    },
    {
     "ename": "TypeError",
     "evalue": "'list' object is not callable",
     "output_type": "error",
     "traceback": [
      "\u001b[1;31m---------------------------------------------------------------------------\u001b[0m",
      "\u001b[1;31mTypeError\u001b[0m                                 Traceback (most recent call last)",
      "Cell \u001b[1;32mIn[68], line 3\u001b[0m\n\u001b[0;32m      1\u001b[0m \u001b[38;5;28mlist\u001b[39m \u001b[38;5;241m=\u001b[39m [\u001b[38;5;124m\"\u001b[39m\u001b[38;5;124mtype\u001b[39m\u001b[38;5;124m\"\u001b[39m]\n\u001b[0;32m      2\u001b[0m \u001b[38;5;28mprint\u001b[39m(\u001b[38;5;28mlist\u001b[39m)\n\u001b[1;32m----> 3\u001b[0m thislist \u001b[38;5;241m=\u001b[39m \u001b[38;5;28;43mlist\u001b[39;49m\u001b[43m(\u001b[49m\u001b[43m(\u001b[49m\u001b[38;5;124;43m\"\u001b[39;49m\u001b[38;5;124;43mapple\u001b[39;49m\u001b[38;5;124;43m\"\u001b[39;49m\u001b[43m,\u001b[49m\u001b[43m \u001b[49m\u001b[38;5;124;43m\"\u001b[39;49m\u001b[38;5;124;43mbanana\u001b[39;49m\u001b[38;5;124;43m\"\u001b[39;49m\u001b[43m,\u001b[49m\u001b[43m \u001b[49m\u001b[38;5;124;43m\"\u001b[39;49m\u001b[38;5;124;43mcherry\u001b[39;49m\u001b[38;5;124;43m\"\u001b[39;49m\u001b[43m)\u001b[49m\u001b[43m)\u001b[49m\n",
      "\u001b[1;31mTypeError\u001b[0m: 'list' object is not callable"
     ]
    }
   ],
   "source": [
    "list = [\"type\"]\n",
    "print(list)\n",
    "thislist = list((\"apple\", \"banana\", \"cherry\"))"
   ]
  },
  {
   "cell_type": "code",
   "execution_count": 174,
   "id": "42594d66-ae85-4542-bf85-8f4949772dfb",
   "metadata": {},
   "outputs": [
    {
     "ename": "TabError",
     "evalue": "inconsistent use of tabs and spaces in indentation (<string>, line 28)",
     "output_type": "error",
     "traceback": [
      "\u001b[1;36m  File \u001b[1;32m<string>:28\u001b[1;36m\u001b[0m\n\u001b[1;33m    print(array)\u001b[0m\n\u001b[1;37m                ^\u001b[0m\n\u001b[1;31mTabError\u001b[0m\u001b[1;31m:\u001b[0m inconsistent use of tabs and spaces in indentation\n"
     ]
    }
   ],
   "source": [
    "def p(array, low, high):\n",
    "\n",
    "\tpivot = array[high]\n",
    "\ti = low - 1\n",
    "\n",
    "    \n",
    "\tfor j in range(low, high):\n",
    "\t\tif array[j] <= pivot:\n",
    "\n",
    "\t\t\t# If element smaller than pivot is found\n",
    "\t\t\t# swap it with the greater element pointed by i\n",
    "\t\t\ti = i + 1\n",
    "\n",
    "\t\t\t# Swapping element at i with element at j\n",
    "\t\t\t(array[i], array[j]) = (array[j], array[i])\n",
    "\n",
    "\t# Swap the pivot element with\n",
    "\t# the greater element specified by i\n",
    "\t(array[i + 1], array[high]) = (array[high], array[i + 1])\n",
    "\n",
    "\t# Return the position from where partition is done\n",
    "\n",
    "\treturn i + 1\n",
    "\n",
    "def qs(array, low, high):\n",
    "\n",
    "\tif low < high:\n",
    "        print(array)\n",
    "\t\tpi = p(array, low, high)\n",
    "\t\tqs(array, low, pi - 1)\n",
    "\t\tqs(array, pi + 1, high)\n"
   ]
  },
  {
   "cell_type": "code",
   "execution_count": 209,
   "id": "1def1ebf-aeaa-4391-b851-0faddfcc60d6",
   "metadata": {},
   "outputs": [],
   "source": [
    "def p(ar,l,h):\n",
    "\n",
    "    poi = ar[h]\n",
    "    i = l - 1\n",
    "    print(ar)\n",
    "\n",
    "    for j in range(l,h):\n",
    "        if ar[j] <=poi:\n",
    "\n",
    "            i=i+1\n",
    "            (ar[i],ar[j]) = (ar[j],ar[i])\n",
    "\n",
    "    (ar[i+1],ar[h]) = (ar[h],ar[i+1])\n",
    "    \n",
    "    return i+1"
   ]
  },
  {
   "cell_type": "code",
   "execution_count": 210,
   "id": "8c7c3635-edac-4365-b01e-17dd6f2895e2",
   "metadata": {},
   "outputs": [],
   "source": [
    "def qs(ar,l,h):\n",
    "\n",
    "    if l<h:\n",
    "\n",
    "        poi = p(ar,l,h)\n",
    "        qs(ar,l,poi-1)\n",
    "        qs(ar,poi+1,h)"
   ]
  },
  {
   "cell_type": "code",
   "execution_count": 212,
   "id": "1e1a5749-f2ef-4e22-b13a-6a5f3a267604",
   "metadata": {},
   "outputs": [
    {
     "name": "stdout",
     "output_type": "stream",
     "text": [
      "[100, 50, 32, 90, 1, 20]\n",
      "[1, 20, 32, 90, 100, 50]\n",
      "[1, 20, 32, 50, 100, 90]\n",
      "[1, 20, 32, 50, 90, 100]\n"
     ]
    }
   ],
   "source": [
    "ar = [100,50,32,90,1,20]\n",
    "qs(ar,0,len(ar)-1)\n",
    "print(ar)"
   ]
  },
  {
   "cell_type": "code",
   "execution_count": 203,
   "id": "52dcd5a9-5259-47e7-9cf8-b1c9d12c7604",
   "metadata": {},
   "outputs": [
    {
     "name": "stdout",
     "output_type": "stream",
     "text": [
      "4\n"
     ]
    }
   ],
   "source": [
    "print(len(ar)-1)"
   ]
  },
  {
   "cell_type": "markdown",
   "id": "0478970d-9a70-4f5d-b802-dbadf1810387",
   "metadata": {},
   "source": [
    "array = [10, 7, 8, 9, 1, 5]\n",
    "N = len(array)\n",
    "print(array)\n",
    "qs(array, 0, N - 1)\n",
    "print('Sorted array:')\n",
    "for x in array:\n",
    "    print(x, end=\" \")"
   ]
  },
  {
   "cell_type": "code",
   "execution_count": 190,
   "id": "3eb3a1e2-3b62-49bf-973a-33392a4e06ba",
   "metadata": {},
   "outputs": [
    {
     "name": "stdout",
     "output_type": "stream",
     "text": [
      "[[0.91622848 0.38489045 0.46746528]\n",
      " [0.42444    0.27872939 0.98360732]\n",
      " [0.13354029 0.98975784 0.98459423]]\n"
     ]
    }
   ],
   "source": [
    "def alpha(ter):\n",
    "    print(ter)\n",
    "\n",
    "ter = np.random.rand(3,3)\n",
    "alpha(ter)"
   ]
  },
  {
   "cell_type": "code",
   "execution_count": 191,
   "id": "52ba8f3a-bf87-428e-b6b6-f8d55d01203d",
   "metadata": {},
   "outputs": [
    {
     "name": "stdout",
     "output_type": "stream",
     "text": [
      "1\n",
      "5\n",
      "7\n",
      "8\n",
      "9\n",
      "10\n"
     ]
    }
   ],
   "source": [
    "for x in array:\n",
    "\t\tprint(x)"
   ]
  },
  {
   "cell_type": "code",
   "execution_count": 82,
   "id": "a0a3d3db-e076-4f1c-994b-88bd12887aad",
   "metadata": {},
   "outputs": [
    {
     "name": "stdout",
     "output_type": "stream",
     "text": [
      "[0.95486704 0.55352834]\n"
     ]
    }
   ],
   "source": [
    "tt = (np.random.rand(2))\n",
    "print(tt)"
   ]
  },
  {
   "cell_type": "code",
   "execution_count": 89,
   "id": "f8c0db3a-98cd-47fd-b923-2248f12e8f35",
   "metadata": {},
   "outputs": [
    {
     "name": "stdout",
     "output_type": "stream",
     "text": [
      "[0.95486704 0.55352834]\n"
     ]
    }
   ],
   "source": [
    "(tt[0], tt[1]) = (tt[1], tt[0])\n",
    "print(tt)"
   ]
  },
  {
   "cell_type": "code",
   "execution_count": 85,
   "id": "2474270d-d70f-4b7c-b8b8-c624f073cbdc",
   "metadata": {},
   "outputs": [
    {
     "ename": "IndexError",
     "evalue": "index 2 is out of bounds for axis 0 with size 2",
     "output_type": "error",
     "traceback": [
      "\u001b[1;31m---------------------------------------------------------------------------\u001b[0m",
      "\u001b[1;31mIndexError\u001b[0m                                Traceback (most recent call last)",
      "Cell \u001b[1;32mIn[85], line 1\u001b[0m\n\u001b[1;32m----> 1\u001b[0m (tt[\u001b[38;5;241m1\u001b[39m], \u001b[43mtt\u001b[49m\u001b[43m[\u001b[49m\u001b[38;5;241;43m2\u001b[39;49m\u001b[43m]\u001b[49m)\n",
      "\u001b[1;31mIndexError\u001b[0m: index 2 is out of bounds for axis 0 with size 2"
     ]
    }
   ],
   "source": [
    "(tt[1], tt[2])"
   ]
  },
  {
   "cell_type": "code",
   "execution_count": 106,
   "id": "4f73b059-7630-44a3-8836-7b5fb614c4ee",
   "metadata": {},
   "outputs": [
    {
     "name": "stdout",
     "output_type": "stream",
     "text": [
      "[1 2]\n"
     ]
    }
   ],
   "source": [
    "tt= np.array([1, 2]);\n",
    "print(tt)"
   ]
  },
  {
   "cell_type": "code",
   "execution_count": 152,
   "id": "0fc8094d-dc73-46bf-a2ba-b3251e325969",
   "metadata": {},
   "outputs": [
    {
     "name": "stdout",
     "output_type": "stream",
     "text": [
      "1\n",
      "2\n"
     ]
    },
    {
     "data": {
      "text/plain": [
       "(None, None)"
      ]
     },
     "execution_count": 152,
     "metadata": {},
     "output_type": "execute_result"
    }
   ],
   "source": [
    "print(1),print(2)"
   ]
  },
  {
   "cell_type": "code",
   "execution_count": null,
   "id": "b8e7bb4e-9a02-4b75-b49d-a57228433358",
   "metadata": {},
   "outputs": [],
   "source": []
  }
 ],
 "metadata": {
  "kernelspec": {
   "display_name": "Python 3 (ipykernel)",
   "language": "python",
   "name": "python3"
  },
  "language_info": {
   "codemirror_mode": {
    "name": "ipython",
    "version": 3
   },
   "file_extension": ".py",
   "mimetype": "text/x-python",
   "name": "python",
   "nbconvert_exporter": "python",
   "pygments_lexer": "ipython3",
   "version": "3.12.0"
  }
 },
 "nbformat": 4,
 "nbformat_minor": 5
}
